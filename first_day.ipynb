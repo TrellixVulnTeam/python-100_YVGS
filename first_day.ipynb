{
 "cells": [
  {
   "cell_type": "code",
   "execution_count": 1,
   "metadata": {
    "pycharm": {
     "is_executing": false
    }
   },
   "outputs": [],
   "source": [
    "import turtle"
   ]
  },
  {
   "cell_type": "code",
   "execution_count": 2,
   "metadata": {
    "pycharm": {
     "is_executing": false
    }
   },
   "outputs": [],
   "source": [
    "turtle.pensize(4)"
   ]
  },
  {
   "cell_type": "code",
   "execution_count": 3,
   "metadata": {
    "pycharm": {
     "is_executing": false
    }
   },
   "outputs": [],
   "source": [
    "turtle.pencolor('red')\n"
   ]
  },
  {
   "cell_type": "code",
   "execution_count": 4,
   "metadata": {
    "pycharm": {
     "is_executing": false
    }
   },
   "outputs": [],
   "source": [
    "turtle.forward(100)\n",
    "\n",
    "turtle.right(90)\n",
    "turtle.forward(100)\n",
    "turtle.right(90)\n",
    "turtle.forward(100)\n",
    "turtle.right(90)\n",
    "turtle.forward(100)\n",
    "turtle.mainloop()"
   ]
  },
  {
   "cell_type": "code",
   "execution_count": 5,
   "metadata": {
    "pycharm": {
     "is_executing": false
    }
   },
   "outputs": [
    {
     "name": "stdout",
     "text": [
      "2.4\n2\n2\n60\n248832\n"
     ],
     "output_type": "stream"
    }
   ],
   "source": [
    "# second day\n",
    "# practice operator \n",
    "a = 12\n",
    "b = 5\n",
    "print(a/b)\n",
    "print(a//b)\n",
    "print(a%b)\n",
    "print(a*b)\n",
    "print(a**b)"
   ]
  },
  {
   "cell_type": "code",
   "execution_count": 6,
   "metadata": {
    "pycharm": {
     "is_executing": false
    }
   },
   "outputs": [
    {
     "name": "stdout",
     "text": [
      "12 + 5 =  17\n"
     ],
     "output_type": "stream"
    }
   ],
   "source": [
    "print('%d + %d = % d'%(a,b,a+b))"
   ]
  },
  {
   "cell_type": "code",
   "execution_count": 7,
   "metadata": {
    "pycharm": {
     "is_executing": false
    }
   },
   "outputs": [
    {
     "name": "stdout",
     "text": [
      "661.0\n"
     ],
     "output_type": "stream"
    }
   ],
   "source": [
    "# third day\n",
    "a = float(input(\"enter a number:\"))\n",
    "if a>1:\n",
    "    y = 3*a-5\n",
    "elif a>-1:\n",
    "    y = a+2\n",
    "else:\n",
    "    y = 5*a+3\n",
    "print(y)\n",
    "    "
   ]
  },
  {
   "cell_type": "code",
   "execution_count": 8,
   "metadata": {
    "pycharm": {
     "is_executing": false
    }
   },
   "outputs": [
    {
     "name": "stdout",
     "text": [
      "a+b+c= 601.0\n"
     ],
     "output_type": "stream"
    },
    {
     "traceback": [
      "\u001b[1;31m---------------------------------------------------------------------------\u001b[0m",
      "\u001b[1;31mValueError\u001b[0m                                Traceback (most recent call last)",
      "\u001b[1;32m<ipython-input-8-482e6ff5c7b2>\u001b[0m in \u001b[0;36m<module>\u001b[1;34m\u001b[0m\n\u001b[0;32m      8\u001b[0m \u001b[1;32mimport\u001b[0m \u001b[0mmath\u001b[0m\u001b[1;33m\u001b[0m\u001b[0m\n\u001b[0;32m      9\u001b[0m \u001b[0mp\u001b[0m \u001b[1;33m=\u001b[0m \u001b[1;33m(\u001b[0m\u001b[0ma\u001b[0m\u001b[1;33m+\u001b[0m\u001b[0mb\u001b[0m\u001b[1;33m+\u001b[0m\u001b[0mc\u001b[0m\u001b[1;33m)\u001b[0m\u001b[1;33m/\u001b[0m\u001b[1;36m2\u001b[0m\u001b[1;33m;\u001b[0m\u001b[1;33m\u001b[0m\u001b[0m\n\u001b[1;32m---> 10\u001b[1;33m \u001b[0ms\u001b[0m \u001b[1;33m=\u001b[0m \u001b[0mmath\u001b[0m\u001b[1;33m.\u001b[0m\u001b[0msqrt\u001b[0m\u001b[1;33m(\u001b[0m\u001b[0mp\u001b[0m\u001b[1;33m*\u001b[0m\u001b[1;33m(\u001b[0m\u001b[0mp\u001b[0m\u001b[1;33m-\u001b[0m\u001b[0ma\u001b[0m\u001b[1;33m)\u001b[0m\u001b[1;33m*\u001b[0m\u001b[1;33m(\u001b[0m\u001b[0mp\u001b[0m\u001b[1;33m-\u001b[0m\u001b[0mb\u001b[0m\u001b[1;33m)\u001b[0m\u001b[1;33m*\u001b[0m\u001b[1;33m(\u001b[0m\u001b[0mp\u001b[0m\u001b[1;33m-\u001b[0m\u001b[0mc\u001b[0m\u001b[1;33m)\u001b[0m\u001b[1;33m)\u001b[0m\u001b[1;33m\u001b[0m\u001b[0m\n\u001b[0m\u001b[0;32m     11\u001b[0m \u001b[0mprint\u001b[0m\u001b[1;33m(\u001b[0m\u001b[1;34m\"the area of triangel is %f\"\u001b[0m\u001b[1;33m%\u001b[0m\u001b[1;33m(\u001b[0m\u001b[0ms\u001b[0m\u001b[1;33m)\u001b[0m\u001b[1;33m)\u001b[0m\u001b[1;33m\u001b[0m\u001b[0m\n\u001b[0;32m     12\u001b[0m \u001b[1;33m\u001b[0m\u001b[0m\n",
      "\u001b[1;31mValueError\u001b[0m: math domain error"
     ],
     "ename": "ValueError",
     "evalue": "math domain error",
     "output_type": "error"
    }
   ],
   "source": [
    "# would three edges construct a triangel. if yes ,please compute the area and the zhouchang of it\n",
    "a = float(input(\"enter an edge:\"))\n",
    "b = float(input(\"enter an edge:\"))\n",
    "c = float(input(\"enter an edge:\"))\n",
    "if a+b>c and a+c>b and b+c>a:\n",
    "    print(\"a,b and c can construct a triangel\")\n",
    "print(\"a+b+c=\",a+b+c)\n",
    "import math\n",
    "p = (a+b+c)/2;\n",
    "s = math.sqrt(p*(p-a)*(p-b)*(p-c))\n",
    "print(\"the area of triangel is %f\"%(s))"
   ]
  },
  {
   "cell_type": "code",
   "execution_count": null,
   "metadata": {
    "pycharm": {
     "is_executing": false
    }
   },
   "outputs": [],
   "source": [
    "dir(math)"
   ]
  },
  {
   "cell_type": "code",
   "execution_count": null,
   "metadata": {
    "pycharm": {
     "is_executing": false
    }
   },
   "outputs": [],
   "source": [
    "# the fourth days\n",
    "\"\"\"\n",
    "猜数字游戏\n",
    "计算机出一个1~100之间的随机数由人来猜\n",
    "计算机根据人猜的数字分别给出提示大一点/小一点/猜对了\n",
    "\n",
    "Version: 0.1\n",
    "\"\"\"\n",
    "import random\n",
    "answer = random.randint(1,100)\n",
    "count = 0\n",
    "while True:\n",
    "    t = int(input(\"enter a integer:\"))\n",
    "    count+=1\n",
    "    if t> answer:\n",
    "        print(\"Too much\")\n",
    "    elif t<answer:\n",
    "        print(\"Too little\")\n",
    "    else:\n",
    "        print(\"you are right\")\n",
    "        break\n",
    "if count>7:\n",
    "    print(\"your IQ is low\")\n",
    "    \n"
   ]
  },
  {
   "cell_type": "code",
   "execution_count": null,
   "metadata": {
    "pycharm": {
     "is_executing": false
    }
   },
   "outputs": [],
   "source": [
    "# compute a sushu\n",
    "is_flag = True\n",
    "import random\n",
    "t = random.randint(1,1000)\n",
    "for i in range(2,t-2):\n",
    "    if t%i==0:\n",
    "        is_flag = False\n",
    "        break\n",
    "if is_flag:\n",
    "    print(\"%d is a sushu\"%(t))\n",
    "else:\n",
    "     print(\"%d is not a sushu\"%(t))"
   ]
  },
  {
   "cell_type": "code",
   "execution_count": null,
   "metadata": {
    "pycharm": {
     "is_executing": false
    }
   },
   "outputs": [],
   "source": [
    "dir(random)"
   ]
  },
  {
   "cell_type": "code",
   "execution_count": null,
   "metadata": {
    "pycharm": {
     "is_executing": false
    }
   },
   "outputs": [],
   "source": [
    "def outfun():\n",
    "    a = 100\n",
    "    def infun():\n",
    "        nonlocal a\n",
    "        a +=1\n",
    "        print(a)\n",
    "        #a =101\n",
    "        print(\"after varying a\")\n",
    "        print(a)\n",
    "    infun()\n",
    "    print(a)\n",
    "outfun()"
   ]
  },
  {
   "cell_type": "code",
   "execution_count": null,
   "metadata": {
    "pycharm": {
     "is_executing": false
    }
   },
   "outputs": [],
   "source": [
    "a  = 100\n",
    "def fun():\n",
    "    #global a\n",
    "    a =a+1\n",
    "    print(a)\n",
    "fun()\n",
    "print(a)"
   ]
  },
  {
   "cell_type": "code",
   "execution_count": null,
   "metadata": {
    "pycharm": {
     "is_executing": false
    }
   },
   "outputs": [],
   "source": [
    "t = 'ddd'\n",
    "dir(t)"
   ]
  },
  {
   "cell_type": "code",
   "execution_count": null,
   "metadata": {
    "pycharm": {
     "is_executing": false
    }
   },
   "outputs": [],
   "source": [
    "class first_class:\n",
    "    __name = 'zhangsan'\n",
    "    __a = 1\n",
    "    def a_print(self):\n",
    "        self.__name = \"lisi\"\n",
    "        self.__a = self.__a +1 \n",
    "        print(self.__name)\n",
    "        print(self.__a)\n",
    "a = first_class()\n",
    "a.a_print()"
   ]
  },
  {
   "cell_type": "code",
   "execution_count": null,
   "metadata": {
    "pycharm": {
     "is_executing": false
    }
   },
   "outputs": [],
   "source": [
    "dir(a)"
   ]
  },
  {
   "cell_type": "code",
   "execution_count": null,
   "metadata": {
    "pycharm": {
     "is_executing": false
    }
   },
   "outputs": [],
   "source": [
    "a._first_class__name"
   ]
  },
  {
   "cell_type": "code",
   "execution_count": null,
   "metadata": {
    "pycharm": {
     "is_executing": false
    }
   },
   "outputs": [],
   "source": [
    "dir(first_class)"
   ]
  },
  {
   "cell_type": "code",
   "execution_count": null,
   "metadata": {
    "pycharm": {
     "is_executing": false
    }
   },
   "outputs": [],
   "source": [
    "first_class._first_class__a"
   ]
  },
  {
   "cell_type": "code",
   "execution_count": null,
   "metadata": {
    "pycharm": {
     "is_executing": false
    }
   },
   "outputs": [],
   "source": [
    "from time import time\n",
    "now_time = time()\n",
    "num = [x for x in range(2,1000001)]\n",
    "def sushu(n):\n",
    "    flag = True\n",
    "    for i in range(2,n//2):\n",
    "        if i%n ==0:\n",
    "            flage = False\n",
    "            return False\n",
    "    if flag:\n",
    "        return flag\n",
    "sum = 0\n",
    "for i in num:\n",
    "    if sushu(i):\n",
    "        sum +=i\n",
    "print(\"sum over all the sushu set is %d\"%sum)\n",
    "end_time = time()\n",
    "print('cost time is %f'%(end_time-now_time))"
   ]
  },
  {
   "cell_type": "code",
   "execution_count": null,
   "metadata": {
    "pycharm": {
     "is_executing": false
    }
   },
   "outputs": [],
   "source": [
    "sum"
   ]
  },
  {
   "cell_type": "code",
   "execution_count": null,
   "metadata": {
    "pycharm": {
     "is_executing": false
    }
   },
   "outputs": [],
   "source": [
    "print(9\\\\2)"
   ]
  },
  {
   "cell_type": "code",
   "execution_count": null,
   "metadata": {
    "pycharm": {
     "is_executing": false
    }
   },
   "outputs": [],
   "source": [
    "t = 0\n",
    "print('nihao')"
   ]
  },
  {
   "cell_type": "code",
   "execution_count": null,
   "metadata": {
    "pycharm": {
     "is_executing": false
    }
   },
   "outputs": [],
   "source": [
    "pwd\n"
   ]
  },
  {
   "cell_type": "code",
   "execution_count": null,
   "metadata": {
    "pycharm": {
     "is_executing": false
    }
   },
   "outputs": [],
   "source": []
  },
  {
   "cell_type": "code",
   "execution_count": null,
   "metadata": {
    "pycharm": {
     "is_executing": false
    }
   },
   "outputs": [],
   "source": [
    "print(\"nihao\")"
   ]
  },
  {
   "cell_type": "code",
   "execution_count": null,
   "metadata": {
    "pycharm": {
     "is_executing": false
    }
   },
   "outputs": [],
   "source": [
    "print(8%2)"
   ]
  },
  {
   "cell_type": "code",
   "execution_count": null,
   "metadata": {
    "pycharm": {
     "is_executing": false
    }
   },
   "outputs": [],
   "source": [
    "([1,2]).sum()"
   ]
  },
  {
   "cell_type": "code",
   "execution_count": null,
   "metadata": {
    "pycharm": {
     "is_executing": false
    }
   },
   "outputs": [],
   "source": [
    "dir([1,2])"
   ]
  },
  {
   "cell_type": "code",
   "execution_count": null,
   "metadata": {
    "pycharm": {
     "is_executing": false
    }
   },
   "outputs": [],
   "source": [
    "from time import time\n",
    "from math import sqrt\n",
    "from threading import Thread\n",
    "from multiprocessing import Queue\n",
    "now_time = time()\n",
    "def sushu(n):\n",
    "    flag = True\n",
    "    for i in range(2,int(sqrt(n))+1):\n",
    "        if n%i ==0:\n",
    "            return False\n",
    "    return flag\n",
    "def xiancheng(start,end,p):\n",
    "        sum = 0\n",
    "        for i in range(start,end):\n",
    "            if sushu(i):\n",
    "                sum +=i\n",
    "        return q.put(sum)\n",
    "\n",
    "total = 1000000\n",
    "interval  = total//8\n",
    "\n",
    "sum = 0\n",
    "index_1 = 2\n",
    "processes = []\n",
    "index_2 = interval+1\n",
    "q = Queue()\n",
    "for i in range(1,9):\n",
    "    p = Thread(target = xiancheng,args = (index_1,index_2,q))\n",
    "    processes.append(p)\n",
    "    p.start()\n",
    "    index_1 = index_2+1\n",
    "    index_2 = (i+1)*interval +1\n",
    "for p in processes:\n",
    "    p.join()\n",
    "while not q.empty:\n",
    "    sum += q.get()\n",
    "print(sum)\n",
    "end_time = time()\n",
    "print(end_time-now_time)\n"
   ]
  },
  {
   "cell_type": "code",
   "execution_count": null,
   "metadata": {
    "pycharm": {
     "is_executing": false
    }
   },
   "outputs": [],
   "source": [
    "from time import time\n",
    "from math import sqrt\n",
    "from threading import Thread\n",
    "from multiprocessing import Queue\n",
    "now_time = time()\n",
    "def sushu(n):\n",
    "    flag = True\n",
    "    for i in range(2,int(sqrt(n))+1):\n",
    "        if n%i ==0:\n",
    "            return False\n",
    "    return flag\n",
    "def xiancheng(start,end,p):\n",
    "        sum = 0\n",
    "        for i in range(start,end):\n",
    "            if sushu(i):\n",
    "                sum +=i\n",
    "                q.put(sum)\n",
    "\n",
    "\n",
    "total = 1000000\n",
    "interval  = total//8\n",
    "\n",
    "sum = 0\n",
    "index_1 = 2\n",
    "processes = []\n",
    "index_2 = interval+1\n",
    "q = Queue()\n",
    "for i in range(1,9):\n",
    "    p = Thread(target = xiancheng,args = (index_1,index_2,q))\n",
    "    processes.append(p)\n",
    "    p.start()\n",
    "    index_1 = index_2+1\n",
    "    index_2 = (i+1)*interval +1\n",
    "for p in processes:\n",
    "    p.join()\n",
    "while not q.empty:\n",
    "    sum += q.get()\n",
    "print(sum)\n",
    "end_time = time()\n",
    "print(end_time-now_time)\n"
   ]
  },
  {
   "cell_type": "code",
   "execution_count": null,
   "metadata": {
    "pycharm": {
     "is_executing": false
    }
   },
   "outputs": [],
   "source": [
    "print('hello')"
   ]
  },
  {
   "cell_type": "code",
   "execution_count": null,
   "metadata": {
    "pycharm": {
     "is_executing": false
    }
   },
   "outputs": [],
   "source": []
  }
 ],
 "metadata": {
  "kernelspec": {
   "display_name": "Python 3",
   "language": "python",
   "name": "python3"
  },
  "pycharm": {
   "stem_cell": {
    "cell_type": "raw",
    "metadata": {
     "collapsed": false
    },
    "source": []
   }
  }
 },
 "nbformat": 4,
 "nbformat_minor": 1
}